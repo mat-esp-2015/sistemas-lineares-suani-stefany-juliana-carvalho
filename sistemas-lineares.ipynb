{
 "cells": [
  {
   "cell_type": "markdown",
   "metadata": {},
   "source": [
    "# Solução de sistemas lineares através da eliminação de Gauss"
   ]
  },
  {
   "cell_type": "markdown",
   "metadata": {},
   "source": [
    "## License\n",
    "\n",
    "All content can be freely used and adapted under the terms of the \n",
    "[Creative Commons Attribution 4.0 International License](http://creativecommons.org/licenses/by/4.0/).\n",
    "\n",
    "![Creative Commons License](https://i.creativecommons.org/l/by/4.0/88x31.png)"
   ]
  },
  {
   "cell_type": "markdown",
   "metadata": {},
   "source": [
    "## Imports\n",
    "\n",
    "Coloque **todos** os `import` na célula abaixo. Não se esqueça do `%matplotlib inline` para que os gráficos apareçam no notebook."
   ]
  },
  {
   "cell_type": "code",
   "execution_count": 34,
   "metadata": {
    "collapsed": true
   },
   "outputs": [],
   "source": [
    "import numpy as np"
   ]
  },
  {
   "cell_type": "markdown",
   "metadata": {},
   "source": [
    "## Tarefa\n",
    "\n",
    "Reduza o sistema linear $\\bar{\\bar{A}}\\bar{x} = \\bar{b}$ para sua forma escalonada (row echelon form)."
   ]
  },
  {
   "cell_type": "code",
   "execution_count": 35,
   "metadata": {
    "collapsed": false
   },
   "outputs": [],
   "source": [
    "N = 11  # Número de linhas\n",
    "M = 11  # Número de colunas\n",
    "sistema = [[25, 108, 58, 102, 61, 24, 39, 40, 67, 11, 5],\n",
    "           [51, 28, 17, 98, 105, 43, 86, 2, 71, 20, 95],\n",
    "           [56, 70, 109, 45, 117, 52, 97, 92, 1, 42, 78],\n",
    "           [59, 6, 50, 37, 120, 118, 104, 64, 53, 100, 66],\n",
    "           [82, 74, 68, 80, 16, 115, 63, 103, 60, 30, 93],\n",
    "           [79, 113, 65, 72, 22, 35, 101, 10, 83, 89, 85],\n",
    "           [34, 57, 90, 9, 14, 47, 76, 44, 26, 48, 114],\n",
    "           [41, 7, 21, 75, 33, 49, 32, 119, 46, 0, 87],\n",
    "           [91, 77, 55, 18, 106, 54, 116, 12, 13, 31, 38],\n",
    "           [27, 81, 29, 107, 84, 15, 3, 112, 88, 69, 19],\n",
    "           [110, 96, 23, 73, 36, 8, 99, 4, 94, 111, 62]]\n",
    "lado_direito = [3323, 2869, 4085, 3211, 4181, 3831, 2699, 2891, 3188, 3586, 3598]"
   ]
  },
  {
   "cell_type": "code",
   "execution_count": 36,
   "metadata": {
    "collapsed": false
   },
   "outputs": [
    {
     "name": "stdout",
     "output_type": "stream",
     "text": [
      "[[25, 108, 58, 102, 61, 24, 39, 40, 67, 11, 5], [0.0, -192.32, -101.32000000000001, -110.08000000000001, -19.439999999999998, -5.960000000000001, 6.439999999999998, -79.6, -65.68, -2.4400000000000013, 84.8], [-7.105427357601002e-15, 0.0, 69.6526622296173, -85.0765391014975, -2.2620632279534263, 3.56780366056572, 3.883111480865212, 73.55657237936771, -90.36688851913478, 19.541181364392678, -9.004991680532456], [0.0, 0.0, 0.0, -7.232751052584419, 2.6338439487593206, 66.80682612201022, 1.1598136701603692, 25.89286034220192, 37.269497446922884, 64.78667024993281, -49.819887127116345], [0.0, 0.0, 0.0, 0.0, -177.9183147715115, -539.4790163885706, -85.8438255519006, -165.04626748840752, -356.4192535967665, -575.1593971701487, 391.184215350165], [0.0, 0.0, 0.0, 0.0, -2.842170943040401e-14, -539.655975046652, 43.02969123025166, -267.1570084206994, -271.02468416529314, -378.2996057969407, 357.87920483633803], [0.0, 0.0, 0.0, 0.0, 0.0, 0.0, 55.46848311433081, -69.824450898192, 59.86020982430274, 57.791435515608384, 78.38074748203918], [0.0, 0.0, 0.0, 0.0, 0.0, 0.0, 0.0, 70.38097433544954, 24.470779918249995, 60.34468330851164, -29.9496766213766], [0.0, 0.0, 0.0, 0.0, 0.0, 0.0, 0.0, 0.0, -16.842780546032376, -126.22386073504879, 62.58428723665599], [0.0, 0.0, 0.0, 0.0, 0.0, 0.0, 0.0, 0.0, 0.0, -291.9827055746588, 268.9190635979108], [-1.4210854715202004e-14, 0.0, 0.0, 0.0, 0.0, 0.0, 0.0, 0.0, 0.0, 0.0, -71.54685175215818]]\n"
     ]
    }
   ],
   "source": [
    "for k in range(N - 1): # ler todas as linhas da matriz\n",
    "    for i in range(k + 1, N): # Para cada linha da matriz, fazer:\n",
    "        valor = -sistema[i][k]/sistema[k][k] # valor pelo qual a linha é multiplicada\n",
    "        lado_direito[i] = lado_direito[i] + valor*lado_direito[k]# como é um sistema os \"resultados\" também são multiplicados\n",
    "        for j in range(k, M):# movimenta a soma entre as colunas das linahs que estão sendo somadas\n",
    "            sistema[i][j] = sistema[i][j] + valor*sistema[k][j] #soma entre as linhas k e i, e o valor obtido sendo substituido na posição da linha i\n",
    "print(sistema)#imprime a matriz"
   ]
  },
  {
   "cell_type": "markdown",
   "metadata": {},
   "source": [
    "### Resultado esperado\n",
    "\n",
    "Quando executada, a célula abaixo deverá imprimir exatamente:\n",
    "\n",
    "                                                   A                                                   |    b \n",
    "      25.000  108.000   58.000  102.000   61.000   24.000   39.000   40.000   67.000   11.000    5.000 | 3323.000\n",
    "       0.000 -192.320 -101.320 -110.080  -19.440   -5.960    6.440  -79.600  -65.680   -2.440   84.800 | -3909.920\n",
    "      -0.000    0.000   69.653  -85.077   -2.262    3.568    3.883   73.557  -90.367   19.541   -9.005 |  136.662\n",
    "       0.000    0.000    0.000   -7.233    2.634   66.807    1.160   25.893   37.269   64.787  -49.820 |  341.724\n",
    "       0.000    0.000    0.000    0.000 -177.918 -539.479  -85.844 -165.046 -356.419 -575.159  391.184 | -4053.756\n",
    "       0.000    0.000    0.000    0.000   -0.000 -539.656   43.030 -267.157 -271.025 -378.300  357.879 | -3235.329\n",
    "       0.000    0.000    0.000    0.000    0.000    0.000   55.468  -69.824   59.860   57.791   78.381 |  141.706\n",
    "       0.000    0.000    0.000    0.000    0.000    0.000    0.000   70.381   24.471   60.345  -29.950 |  741.794\n",
    "       0.000    0.000    0.000    0.000    0.000    0.000    0.000    0.000  -16.843 -126.224   62.584 |   57.797\n",
    "       0.000    0.000    0.000    0.000    0.000    0.000    0.000    0.000    0.000 -291.983  268.919 |  537.838\n",
    "      -0.000    0.000    0.000    0.000    0.000    0.000    0.000    0.000    0.000    0.000  -71.547 | -143.094\n"
   ]
  },
  {
   "cell_type": "code",
   "execution_count": 37,
   "metadata": {
    "collapsed": false
   },
   "outputs": [
    {
     "name": "stdout",
     "output_type": "stream",
     "text": [
      "                                               A                                                   |    b \n",
      "  25.000  108.000   58.000  102.000   61.000   24.000   39.000   40.000   67.000   11.000    5.000 | 3323.000\n",
      "   0.000 -192.320 -101.320 -110.080  -19.440   -5.960    6.440  -79.600  -65.680   -2.440   84.800 | -3909.920\n",
      "  -0.000    0.000   69.653  -85.077   -2.262    3.568    3.883   73.557  -90.367   19.541   -9.005 |  136.662\n",
      "   0.000    0.000    0.000   -7.233    2.634   66.807    1.160   25.893   37.269   64.787  -49.820 |  341.724\n",
      "   0.000    0.000    0.000    0.000 -177.918 -539.479  -85.844 -165.046 -356.419 -575.159  391.184 | -4053.756\n",
      "   0.000    0.000    0.000    0.000   -0.000 -539.656   43.030 -267.157 -271.025 -378.300  357.879 | -3235.329\n",
      "   0.000    0.000    0.000    0.000    0.000    0.000   55.468  -69.824   59.860   57.791   78.381 |  141.706\n",
      "   0.000    0.000    0.000    0.000    0.000    0.000    0.000   70.381   24.471   60.345  -29.950 |  741.794\n",
      "   0.000    0.000    0.000    0.000    0.000    0.000    0.000    0.000  -16.843 -126.224   62.584 |   57.797\n",
      "   0.000    0.000    0.000    0.000    0.000    0.000    0.000    0.000    0.000 -291.983  268.919 |  537.838\n",
      "  -0.000    0.000    0.000    0.000    0.000    0.000    0.000    0.000    0.000    0.000  -71.547 | -143.094\n"
     ]
    }
   ],
   "source": [
    "print('                                               A                                                   |    b ')\n",
    "for i in range(N):\n",
    "    for j in range(M):\n",
    "        print('{:8.3f} '.format(sistema[i][j]), end='')\n",
    "    print('| {:8.3f}'.format(lado_direito[i]))"
   ]
  },
  {
   "cell_type": "markdown",
   "metadata": {},
   "source": [
    "## Tarefa\n",
    "\n",
    "Utilize a matriz escalonada acima para encontrar a solução do sistema através da substituição retrocedida (back substitution). Coloque a solução em uma lista chamada `solucao`.\n",
    "\n",
    "**Dica**: \n",
    "\n",
    "* Para criar uma lista com um mesmo valor repetido N vezes: `[numero]*N`. Por exemplo, `[0]*4` resulta em `[0, 0, 0, 0]`."
   ]
  },
  {
   "cell_type": "code",
   "execution_count": 38,
   "metadata": {
    "collapsed": false
   },
   "outputs": [
    {
     "name": "stdout",
     "output_type": "stream",
     "text": [
      "[3323, -3909.92, 136.66222961730455, 341.7244289169582, -4053.75582368912, -3235.3288564001277, 141.70569019401557, 741.7935097847427, 57.79745228918122, 537.8381271958178, -143.09370350431925]\n",
      "[5.999999999999891, 9.000000000000153, 4.99999999999979, 7.000000000000029, 2.9999999999999796, 1.0000000000000544, 8.000000000000094, 10.000000000000036, 3.999999999999848, 5.0227639466607155e-14, 2.0000000000000404]\n"
     ]
    }
   ],
   "source": [
    "#Pensar de trás pra frente\n",
    "solucao = [0]*M #fazer lista de zeros para depois ir substituindo os valores, mais fácil que usar o append\n",
    "soma = 0\n",
    "print(lado_direito)\n",
    "for k in range(N-1 , -1, -1): # já que a última posição no caso é zero, devemos ir até a posição -1, porque deve contar a posição zero também # se é de trás pra frente, então deve-se ir de -1 em -1, porque está retrocedendo uma posição\n",
    "    soma = 0\n",
    "    for i in range(k + 1, N):\n",
    "        soma = soma + (sistema[k][i]*solucao[i])\n",
    "    resultado = (lado_direito[k] - soma)/sistema[k][k]\n",
    "    solucao[k] = resultado\n",
    "print(solucao)           "
   ]
  },
  {
   "cell_type": "markdown",
   "metadata": {},
   "source": [
    "### Resultado esperado\n",
    "\n",
    "Quando executada, a célula abaixo deverá imprimir exatamente:\n",
    "\n",
    "    6.000000 9.000000 5.000000 7.000000 3.000000 1.000000 8.000000 10.000000 4.000000 0.000000 2.000000 "
   ]
  },
  {
   "cell_type": "code",
   "execution_count": 39,
   "metadata": {
    "collapsed": false
   },
   "outputs": [
    {
     "name": "stdout",
     "output_type": "stream",
     "text": [
      "6.000000 9.000000 5.000000 7.000000 3.000000 1.000000 8.000000 10.000000 4.000000 0.000000 2.000000 "
     ]
    }
   ],
   "source": [
    "for i in range(N):\n",
    "    print('{:8.6f} '.format(solucao[i]), end='')"
   ]
  },
  {
   "cell_type": "markdown",
   "metadata": {},
   "source": [
    "## Tarefa Bônus"
   ]
  },
  {
   "cell_type": "markdown",
   "metadata": {},
   "source": [
    "Sua tarefa será aplicar a eliminação de Gauss para resolver o sistema linear gerado abaixo."
   ]
  },
  {
   "cell_type": "code",
   "execution_count": 29,
   "metadata": {
    "collapsed": false
   },
   "outputs": [],
   "source": [
    "# Para tornar a vida mais interessante, vamos gerar um sistema linear aleatório\n",
    "N, M = 13, 13\n",
    "A = np.random.random_integers(10, 50, size=(N, M)).tolist()\n",
    "for i in range(N):\n",
    "    A[i][i] = 0\n",
    "b = np.dot(A, np.random.random_integers(1, 20, size=N)).tolist()"
   ]
  },
  {
   "cell_type": "code",
   "execution_count": 30,
   "metadata": {
    "collapsed": false
   },
   "outputs": [
    {
     "name": "stdout",
     "output_type": "stream",
     "text": [
      "                                                   A                                                    |    b \n",
      "    0.0    49.0    24.0    13.0    13.0    26.0    14.0    27.0    30.0    22.0    27.0    37.0    24.0 |  3502.0\n",
      "   14.0     0.0    35.0    36.0    36.0    10.0    42.0    20.0    15.0    47.0    36.0    24.0    33.0 |  3433.0\n",
      "   33.0    37.0     0.0    26.0    44.0    34.0    12.0    25.0    15.0    42.0    31.0    30.0    28.0 |  3473.0\n",
      "   11.0    18.0    14.0     0.0    11.0    37.0    36.0    27.0    26.0    43.0    37.0    26.0    48.0 |  3010.0\n",
      "   17.0    31.0    25.0    45.0     0.0    30.0    17.0    12.0    27.0    45.0    24.0    28.0    38.0 |  3766.0\n",
      "   15.0    18.0    14.0    32.0    10.0     0.0    25.0    45.0    37.0    47.0    33.0    47.0    46.0 |  3931.0\n",
      "   23.0    12.0    28.0    47.0    17.0    30.0     0.0    30.0    16.0    17.0    14.0    18.0    28.0 |  3294.0\n",
      "   26.0    28.0    43.0    28.0    26.0    33.0    33.0     0.0    13.0    24.0    41.0    40.0    43.0 |  3946.0\n",
      "   43.0    17.0    10.0    49.0    11.0    21.0    49.0    42.0     0.0    41.0    28.0    41.0    32.0 |  4101.0\n",
      "   33.0    11.0    17.0    19.0    27.0    49.0    50.0    23.0    36.0     0.0    22.0    12.0    22.0 |  2725.0\n",
      "   40.0    21.0    22.0    25.0    50.0    31.0    24.0    28.0    36.0    23.0     0.0    21.0    26.0 |  3265.0\n",
      "   44.0    36.0    50.0    47.0    34.0    30.0    34.0    30.0    50.0    44.0    39.0     0.0    10.0 |  4427.0\n",
      "   43.0    39.0    38.0    10.0    47.0    33.0    37.0    46.0    12.0    38.0    31.0    36.0     0.0 |  4309.0\n"
     ]
    }
   ],
   "source": [
    "print('                                                   A                                                    |    b ')\n",
    "for i in range(N):\n",
    "    for j in range(M):\n",
    "        print('{:7.1f} '.format(A[i][j]), end='')\n",
    "    print('| {:7.1f}'.format(b[i]))"
   ]
  },
  {
   "cell_type": "markdown",
   "metadata": {},
   "source": [
    "Porém, há um problema. Você não poderá fazer isso diretamente pois $A_{ii} == 0$ (a diagonal da matriz é zero). Logo, não há como dividir pelo elemento pivo e não há como aplicar a eliminação de Gauss nesse sistema. **Experimente aplicar a eliminação convencional que você implementou acima nesse sistema e veja o que acontece.**"
   ]
  },
  {
   "cell_type": "code",
   "execution_count": 31,
   "metadata": {
    "collapsed": false
   },
   "outputs": [
    {
     "name": "stdout",
     "output_type": "stream",
     "text": [
      "[3323, -3909.92, 136.66222961730455, 341.7244289169582, -4053.75582368912, -3235.3288564001277, 141.70569019401557, 741.7935097847427, 57.79745228918122, 537.8381271958178, -143.09370350431925]\n"
     ]
    },
    {
     "ename": "IndexError",
     "evalue": "list index out of range",
     "output_type": "error",
     "traceback": [
      "\u001b[1;31m---------------------------------------------------------------------------\u001b[0m",
      "\u001b[1;31mIndexError\u001b[0m                                Traceback (most recent call last)",
      "\u001b[1;32m<ipython-input-31-d6d215e97c58>\u001b[0m in \u001b[0;36m<module>\u001b[1;34m()\u001b[0m\n\u001b[0;32m      7\u001b[0m     \u001b[1;32mfor\u001b[0m \u001b[0mi\u001b[0m \u001b[1;32min\u001b[0m \u001b[0mrange\u001b[0m\u001b[1;33m(\u001b[0m\u001b[0mk\u001b[0m \u001b[1;33m+\u001b[0m \u001b[1;36m1\u001b[0m\u001b[1;33m,\u001b[0m \u001b[0mN\u001b[0m\u001b[1;33m)\u001b[0m\u001b[1;33m:\u001b[0m\u001b[1;33m\u001b[0m\u001b[0m\n\u001b[0;32m      8\u001b[0m         \u001b[0msoma\u001b[0m \u001b[1;33m=\u001b[0m \u001b[0msoma\u001b[0m \u001b[1;33m+\u001b[0m \u001b[1;33m(\u001b[0m\u001b[0msistema\u001b[0m\u001b[1;33m[\u001b[0m\u001b[0mk\u001b[0m\u001b[1;33m]\u001b[0m\u001b[1;33m[\u001b[0m\u001b[0mi\u001b[0m\u001b[1;33m]\u001b[0m\u001b[1;33m*\u001b[0m\u001b[0msolucao\u001b[0m\u001b[1;33m[\u001b[0m\u001b[0mi\u001b[0m\u001b[1;33m]\u001b[0m\u001b[1;33m)\u001b[0m\u001b[1;33m\u001b[0m\u001b[0m\n\u001b[1;32m----> 9\u001b[1;33m     \u001b[0mresultado\u001b[0m \u001b[1;33m=\u001b[0m \u001b[1;33m(\u001b[0m\u001b[0mlado_direito\u001b[0m\u001b[1;33m[\u001b[0m\u001b[0mk\u001b[0m\u001b[1;33m]\u001b[0m \u001b[1;33m-\u001b[0m \u001b[0msoma\u001b[0m\u001b[1;33m)\u001b[0m\u001b[1;33m/\u001b[0m\u001b[0msistema\u001b[0m\u001b[1;33m[\u001b[0m\u001b[0mk\u001b[0m\u001b[1;33m]\u001b[0m\u001b[1;33m[\u001b[0m\u001b[0mk\u001b[0m\u001b[1;33m]\u001b[0m\u001b[1;33m\u001b[0m\u001b[0m\n\u001b[0m\u001b[0;32m     10\u001b[0m     \u001b[0msolucao\u001b[0m\u001b[1;33m[\u001b[0m\u001b[0mk\u001b[0m\u001b[1;33m]\u001b[0m \u001b[1;33m=\u001b[0m \u001b[0mresultado\u001b[0m\u001b[1;33m\u001b[0m\u001b[0m\n\u001b[0;32m     11\u001b[0m \u001b[0mprint\u001b[0m\u001b[1;33m(\u001b[0m\u001b[0msolucao\u001b[0m\u001b[1;33m)\u001b[0m\u001b[1;33m\u001b[0m\u001b[0m\n",
      "\u001b[1;31mIndexError\u001b[0m: list index out of range"
     ]
    }
   ],
   "source": [
    "#Pensar de trás pra frente\n",
    "solucao = [0]*M #fazer lista de zeros para depois ir substituindo os valores, mais fácil que usar o append\n",
    "soma = 0\n",
    "print(lado_direito)\n",
    "for k in range(N-1 , -1, -1): # já que a última posição no caso é zero, devemos ir até a posição -1, porque deve contar a posição zero também # se é de trás pra frente, então deve-se ir de -1 em -1, porque está retrocedendo uma posição\n",
    "    soma = 0\n",
    "    for i in range(k + 1, N):\n",
    "        soma = soma + (sistema[k][i]*solucao[i])\n",
    "    resultado = (lado_direito[k] - soma)/sistema[k][k]\n",
    "    solucao[k] = resultado\n",
    "print(solucao)        "
   ]
  },
  {
   "cell_type": "markdown",
   "metadata": {},
   "source": [
    "\n",
    "\n",
    "### Condensação pivotal (partial pivoting)\n",
    "\n",
    "Existe um método para contornar esse problema chamado **condensação pivotal** (partial pivoting). A ideia é que podemos trocar duas linhas do sistema de lugar sem alterar a solução. Logo, podemos tirar os elementos 0 da diagonal da matriz trocando por outra linha sem o 0 na posição do pivo. Um jeito melhor ainda de fazer isso é colocando a linha com o **maior elemento** possível na posição do pivo (veja [aqui uma ótima explicação disso](http://www.math.iitb.ac.in/~neela/partialpivot.pdf)). \n",
    "\n",
    "O método da eliminação de Gauss com condensação pivotal é:\n",
    "\n",
    "    Para cada linha k do sistema:\n",
    "        Ache a linha de A com o maior elemento na coluna k (só precisa considerar de k para baixo)\n",
    "        Troque a linha k com a linha determinada acima (não esqueça de trocar o lado direito também)\n",
    "        pivo = A[k][k]\n",
    "        Escalonamento para zerar a coluna k (igual ao feita na eliminação convencional)\n",
    "        \n",
    "        \n",
    "Resolva o sistema linear definido acima utilizando eliminação de Gauss com condensação pivotal. Coloque a solução em uma variável chamada `solucao`."
   ]
  },
  {
   "cell_type": "code",
   "execution_count": null,
   "metadata": {
    "collapsed": false
   },
   "outputs": [],
   "source": []
  },
  {
   "cell_type": "code",
   "execution_count": null,
   "metadata": {
    "collapsed": false
   },
   "outputs": [],
   "source": []
  },
  {
   "cell_type": "code",
   "execution_count": null,
   "metadata": {
    "collapsed": true
   },
   "outputs": [],
   "source": []
  },
  {
   "cell_type": "markdown",
   "metadata": {},
   "source": [
    "### Resultado esperado\n",
    "\n",
    "Quando executada, a célula abaixo deverá imprimir `True`."
   ]
  },
  {
   "cell_type": "code",
   "execution_count": 32,
   "metadata": {
    "collapsed": false
   },
   "outputs": [
    {
     "name": "stdout",
     "output_type": "stream",
     "text": [
      "False\n"
     ]
    }
   ],
   "source": [
    "print(np.allclose(np.linalg.solve(A, b), solucao))"
   ]
  },
  {
   "cell_type": "code",
   "execution_count": null,
   "metadata": {
    "collapsed": true
   },
   "outputs": [],
   "source": []
  },
  {
   "cell_type": "code",
   "execution_count": null,
   "metadata": {
    "collapsed": true
   },
   "outputs": [],
   "source": []
  },
  {
   "cell_type": "code",
   "execution_count": null,
   "metadata": {
    "collapsed": true
   },
   "outputs": [],
   "source": []
  },
  {
   "cell_type": "code",
   "execution_count": null,
   "metadata": {
    "collapsed": true
   },
   "outputs": [],
   "source": []
  },
  {
   "cell_type": "code",
   "execution_count": null,
   "metadata": {
    "collapsed": true
   },
   "outputs": [],
   "source": []
  },
  {
   "cell_type": "code",
   "execution_count": null,
   "metadata": {
    "collapsed": true
   },
   "outputs": [],
   "source": []
  },
  {
   "cell_type": "code",
   "execution_count": null,
   "metadata": {
    "collapsed": true
   },
   "outputs": [],
   "source": []
  }
 ],
 "metadata": {
  "kernelspec": {
   "display_name": "Python 3",
   "language": "python",
   "name": "python3"
  },
  "language_info": {
   "codemirror_mode": {
    "name": "ipython",
    "version": 3
   },
   "file_extension": ".py",
   "mimetype": "text/x-python",
   "name": "python",
   "nbconvert_exporter": "python",
   "pygments_lexer": "ipython3",
   "version": "3.4.3"
  }
 },
 "nbformat": 4,
 "nbformat_minor": 0
}
